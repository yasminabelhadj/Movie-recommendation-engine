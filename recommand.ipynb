{
 "cells": [
  {
   "cell_type": "code",
   "execution_count": null,
   "metadata": {},
   "outputs": [],
   "source": [
    "#a simple exemple tounderstand the rule of recommandation$\n",
    "from sklearn.feature_extraction.text import CountVectorizer\n",
    "text =['London Paris London','Paris PAris London']\n",
    "cv = CountVectorizer()\n",
    "count_text=cv.fit_transform(text)\n",
    "count_text=count_text.toarray()\n",
    "#cosine similarities between two vectors \n",
    "from sklearn.metrics.pairwise import cosine_similarity\n",
    "similarity_scores =cosine_similarity(count_text)\n",
    "print(similarity_scores)\n",
    "print(count_text)"
   ]
  },
  {
   "cell_type": "code",
   "execution_count": null,
   "metadata": {},
   "outputs": [],
   "source": [
    "# now we start implemanting our first recommanding system\n",
    "import pandas as pd\n",
    "import numpy as np\n",
    "from sklearn.feature_extraction.text import CountVectorizer\n",
    "from sklearn.metrics.pairwise import cosine_similarity\n",
    "\n",
    "## we re gonna define fnctions to be used later\n",
    "def get_name_by_index(index):\n",
    "    return df[df.index==index]['title'].values[0]\n",
    "\n",
    "def get_index_by_title(title):\n",
    "    return df[df.title==title]['index'].values[0]\n",
    "\n"
   ]
  },
  {
   "cell_type": "code",
   "execution_count": null,
   "metadata": {},
   "outputs": [],
   "source": [
    "# read csv file \n",
    "df=pd.read_csv(\"C:/Users/user/Recommandation_system/movie_dataset.csv\")\n",
    "df.head()"
   ]
  },
  {
   "cell_type": "code",
   "execution_count": null,
   "metadata": {},
   "outputs": [],
   "source": [
    "df.columns"
   ]
  },
  {
   "cell_type": "code",
   "execution_count": null,
   "metadata": {},
   "outputs": [],
   "source": [
    "#select feature\n",
    "features = ['keywords','genres','director','cast']\n",
    "#create a coluln indf which combines all the features selected\n",
    "def combine (row):\n",
    "    try:\n",
    "        return row['keywords']+\" \"+row['cast']+\" \"+row['genres']+\" \"+row['director']\n",
    "    except :\n",
    "        print(\"ERROR:\",row)\n",
    "df['combined_features']=df.apply(combine,axis=1)\n",
    "print(\"Combined_feature:\",df['combined_features'].head())\n",
    "    "
   ]
  },
  {
   "cell_type": "code",
   "execution_count": null,
   "metadata": {},
   "outputs": [],
   "source": [
    "for feature in features:\n",
    "    df[feature]=df[feature].fillna(\"\")"
   ]
  },
  {
   "cell_type": "code",
   "execution_count": null,
   "metadata": {},
   "outputs": [],
   "source": [
    "#create count matrix from this new columns\n",
    "cv = CountVectorizer()\n",
    "count_df=cv.fit_transform(df['combined_features'])\n"
   ]
  },
  {
   "cell_type": "code",
   "execution_count": null,
   "metadata": {},
   "outputs": [],
   "source": [
    "#compute the cosine similarity based on the matrix\n",
    "\n",
    "cosine_sim = cosine_similarity(count_df) \n"
   ]
  },
  {
   "cell_type": "code",
   "execution_count": null,
   "metadata": {},
   "outputs": [],
   "source": [
    "print(cosine_sim)"
   ]
  },
  {
   "cell_type": "code",
   "execution_count": null,
   "metadata": {},
   "outputs": [],
   "source": [
    "Movie_watched = 'Avatar'\n",
    "#Get index of this movie from its title\n",
    "movie_index = get_name_by_index(Movie_watched)\n",
    "similar_movies =  list(enumerate(cosine_sim[movie_index]))\n",
    "similar_movies\n",
    "#Sorted similar movies\n",
    "sorted_similar_movies = sorted(similar_movies,key=lambda x:x[1],reverse=True)\n",
    "\n"
   ]
  },
  {
   "cell_type": "code",
   "execution_count": null,
   "metadata": {},
   "outputs": [],
   "source": [
    "#Print 50 titles of first similar movies\n",
    "i=0\n",
    "for movie in sorted_similar_movies:\n",
    "    print(get_index_by_title(movie[0]))\n",
    "    i=i+1;\n",
    "    if (i>50):\n",
    "        break;\n",
    "    \n"
   ]
  },
  {
   "cell_type": "code",
   "execution_count": null,
   "metadata": {},
   "outputs": [],
   "source": []
  },
  {
   "cell_type": "code",
   "execution_count": null,
   "metadata": {},
   "outputs": [],
   "source": []
  }
 ],
 "metadata": {
  "kernelspec": {
   "display_name": "Python 3",
   "language": "python",
   "name": "python3"
  },
  "language_info": {
   "codemirror_mode": {
    "name": "ipython",
    "version": 3
   },
   "file_extension": ".py",
   "mimetype": "text/x-python",
   "name": "python",
   "nbconvert_exporter": "python",
   "pygments_lexer": "ipython3",
   "version": "3.7.3"
  }
 },
 "nbformat": 4,
 "nbformat_minor": 2
}
